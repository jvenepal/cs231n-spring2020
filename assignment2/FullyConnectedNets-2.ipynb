{
 "cells": [
  {
   "cell_type": "code",
   "execution_count": 1,
   "metadata": {
    "tags": [
     "pdf-ignore"
    ]
   },
   "outputs": [
    {
     "name": "stdout",
     "output_type": "stream",
     "text": [
      "=========== You can safely ignore the message below if you are NOT working on ConvolutionalNetworks.ipynb ===========\n",
      "\tYou will need to compile a Cython extension for a portion of this assignment.\n",
      "\tThe instructions to do this will be given in a section of the notebook below.\n",
      "\tThere will be an option for Colab users and another for Jupyter (local) users.\n"
     ]
    }
   ],
   "source": [
    "# As usual, a bit of setup\n",
    "from __future__ import print_function\n",
    "import time\n",
    "import numpy as np\n",
    "import matplotlib.pyplot as plt\n",
    "from cs231n.classifiers.fc_net import *\n",
    "from cs231n.data_utils import get_CIFAR10_data\n",
    "from cs231n.gradient_check import eval_numerical_gradient, eval_numerical_gradient_array\n",
    "from cs231n.solver import Solver\n",
    "\n",
    "%matplotlib inline\n",
    "plt.rcParams['figure.figsize'] = (10.0, 8.0) # set default size of plots\n",
    "plt.rcParams['image.interpolation'] = 'nearest'\n",
    "plt.rcParams['image.cmap'] = 'gray'\n",
    "\n",
    "# for auto-reloading external modules\n",
    "# see http://stackoverflow.com/questions/1907993/autoreload-of-modules-in-ipython\n",
    "%load_ext autoreload\n",
    "%autoreload 2\n",
    "\n",
    "def rel_error(x, y):\n",
    "  \"\"\" returns relative error \"\"\"\n",
    "  return np.max(np.abs(x - y) / (np.maximum(1e-8, np.abs(x) + np.abs(y))))"
   ]
  },
  {
   "cell_type": "code",
   "execution_count": 2,
   "metadata": {
    "tags": [
     "pdf-ignore"
    ]
   },
   "outputs": [
    {
     "name": "stdout",
     "output_type": "stream",
     "text": [
      "('X_train: ', (49000, 3, 32, 32))\n",
      "('y_train: ', (49000,))\n",
      "('X_val: ', (1000, 3, 32, 32))\n",
      "('y_val: ', (1000,))\n",
      "('X_test: ', (1000, 3, 32, 32))\n",
      "('y_test: ', (1000,))\n"
     ]
    }
   ],
   "source": [
    "# Load the (preprocessed) CIFAR10 data.\n",
    "\n",
    "data = get_CIFAR10_data()\n",
    "for k, v in list(data.items()):\n",
    "  print(('%s: ' % k, v.shape))"
   ]
  },
  {
   "cell_type": "markdown",
   "metadata": {},
   "source": [
    "# Train a good model!\n",
    "Train the best fully-connected model that you can on CIFAR-10, storing your best model in the `best_model` variable. We require you to get at least 50% accuracy on the validation set using a fully-connected net.\n",
    "\n",
    "If you are careful it should be possible to get accuracies above 55%, but we don't require it for this part and won't assign extra credit for doing so. Later in the assignment we will ask you to train the best convolutional network that you can on CIFAR-10, and we would prefer that you spend your effort working on convolutional nets rather than fully-connected nets.\n",
    "\n",
    "You might find it useful to complete the `BatchNormalization.ipynb` and `Dropout.ipynb` notebooks before completing this part, since those techniques can help you train powerful models."
   ]
  },
  {
   "cell_type": "code",
   "execution_count": 3,
   "metadata": {},
   "outputs": [
    {
     "name": "stdout",
     "output_type": "stream",
     "text": [
      "X_train (1000, 3, 32, 32)\n",
      "y_train (1000,)\n",
      "X_val (1000, 3, 32, 32)\n",
      "y_val (1000,)\n"
     ]
    }
   ],
   "source": [
    "# use 1000 training samples as toy data\n",
    "num_train = 1000\n",
    "small_data = {\n",
    "    'X_train': data['X_train'][:num_train],\n",
    "    'y_train': data['y_train'][:num_train],\n",
    "    'X_val': data['X_val'],\n",
    "    'y_val': data['y_val'],\n",
    "}\n",
    "for k, v in small_data.items():\n",
    "    print(k, v.shape)"
   ]
  },
  {
   "cell_type": "code",
   "execution_count": 4,
   "metadata": {},
   "outputs": [
    {
     "name": "stdout",
     "output_type": "stream",
     "text": [
      "(Iteration 1 / 9800) loss: 2.309993\n",
      "(Epoch 0 / 20) train acc: 0.131000; val_acc: 0.152000\n",
      "(Epoch 1 / 20) train acc: 0.455000; val_acc: 0.465000\n",
      "(Iteration 501 / 9800) loss: 1.672701\n",
      "(Epoch 2 / 20) train acc: 0.500000; val_acc: 0.468000\n",
      "(Iteration 1001 / 9800) loss: 1.463933\n",
      "(Epoch 3 / 20) train acc: 0.511000; val_acc: 0.508000\n",
      "(Iteration 1501 / 9800) loss: 1.431047\n",
      "(Epoch 4 / 20) train acc: 0.512000; val_acc: 0.494000\n",
      "(Iteration 2001 / 9800) loss: 1.680060\n",
      "(Epoch 5 / 20) train acc: 0.524000; val_acc: 0.523000\n",
      "(Iteration 2501 / 9800) loss: 1.522827\n",
      "(Epoch 6 / 20) train acc: 0.564000; val_acc: 0.526000\n",
      "(Iteration 3001 / 9800) loss: 1.314917\n",
      "(Epoch 7 / 20) train acc: 0.569000; val_acc: 0.525000\n",
      "(Iteration 3501 / 9800) loss: 1.246932\n",
      "(Epoch 8 / 20) train acc: 0.589000; val_acc: 0.544000\n",
      "(Iteration 4001 / 9800) loss: 1.313336\n",
      "(Epoch 9 / 20) train acc: 0.638000; val_acc: 0.548000\n",
      "(Iteration 4501 / 9800) loss: 0.970323\n",
      "(Epoch 10 / 20) train acc: 0.596000; val_acc: 0.561000\n",
      "(Iteration 5001 / 9800) loss: 1.345576\n",
      "(Epoch 11 / 20) train acc: 0.631000; val_acc: 0.540000\n",
      "(Iteration 5501 / 9800) loss: 1.321530\n",
      "(Epoch 12 / 20) train acc: 0.646000; val_acc: 0.548000\n",
      "(Iteration 6001 / 9800) loss: 1.267925\n",
      "(Epoch 13 / 20) train acc: 0.632000; val_acc: 0.561000\n",
      "(Iteration 6501 / 9800) loss: 1.273088\n",
      "(Epoch 14 / 20) train acc: 0.645000; val_acc: 0.573000\n",
      "(Iteration 7001 / 9800) loss: 1.092056\n",
      "(Epoch 15 / 20) train acc: 0.689000; val_acc: 0.568000\n",
      "(Iteration 7501 / 9800) loss: 1.112935\n",
      "(Epoch 16 / 20) train acc: 0.663000; val_acc: 0.573000\n",
      "(Iteration 8001 / 9800) loss: 1.174531\n",
      "(Epoch 17 / 20) train acc: 0.681000; val_acc: 0.565000\n",
      "(Iteration 8501 / 9800) loss: 1.259451\n",
      "(Epoch 18 / 20) train acc: 0.684000; val_acc: 0.582000\n",
      "(Iteration 9001 / 9800) loss: 1.150858\n",
      "(Epoch 19 / 20) train acc: 0.737000; val_acc: 0.578000\n",
      "(Iteration 9501 / 9800) loss: 1.151598\n",
      "(Epoch 20 / 20) train acc: 0.730000; val_acc: 0.589000\n",
      "CPU times: user 2h 48min 42s, sys: 32min 12s, total: 3h 20min 55s\n",
      "Wall time: 25min 39s\n"
     ]
    }
   ],
   "source": [
    "hidden_dims = [700] * 3\n",
    "model = FullyConnectedNet(hidden_dims, input_dim=3*32*32, num_classes=10,\n",
    "                          normalization='batchnorm', dropout=0.5, dtype=np.float64,\n",
    "                          reg=5e-7)\n",
    "solver = Solver(model, data, update_rule='adam', batch_size=100,\n",
    "                num_epochs=20, optim_config= {'learning_rate':5e-3},\n",
    "                print_every=500, verbose=True, lr_decay=0.95)\n",
    "%time solver.train()"
   ]
  },
  {
   "cell_type": "code",
   "execution_count": 5,
   "metadata": {},
   "outputs": [
    {
     "data": {
      "image/png": "[encoded data removed]",
      "text/plain": [
       "<Figure size 720x720 with 2 Axes>"
      ]
     },
     "metadata": {
      "needs_background": "light"
     },
     "output_type": "display_data"
    }
   ],
   "source": [
    "# plots\n",
    "plt.figure(figsize=(10, 10))\n",
    "plt.subplot(3, 1, 1)\n",
    "plt.title('Training loss')\n",
    "plt.xlabel('Iteration')\n",
    "plt.plot(solver.loss_history, 'o', label='train loss')\n",
    "\n",
    "plt.subplot(3, 1, 2)\n",
    "plt.title('Accuracy')\n",
    "plt.xlabel('Epoch')\n",
    "plt.plot(solver.train_acc_history, '-o', label='train accu.')\n",
    "plt.plot(solver.val_acc_history, '-o', label='valid accu.')\n",
    "plt.legend()\n",
    "plt.show()"
   ]
  },
  {
   "cell_type": "code",
   "execution_count": 6,
   "metadata": {},
   "outputs": [
    {
     "name": "stdout",
     "output_type": "stream",
     "text": [
      "Validation set accuracy:  0.589\n",
      "Test set accuracy:  0.6\n"
     ]
    }
   ],
   "source": [
    "best_model = model\n",
    "y_test_pred = np.argmax(best_model.loss(data['X_test']), axis=1)\n",
    "y_val_pred = np.argmax(best_model.loss(data['X_val']), axis=1)\n",
    "print('Validation set accuracy: ', (y_val_pred == data['y_val']).mean())\n",
    "print('Test set accuracy: ', (y_test_pred == data['y_test']).mean())"
   ]
  },
  {
   "cell_type": "code",
   "execution_count": 7,
   "metadata": {},
   "outputs": [
    {
     "name": "stdout",
     "output_type": "stream",
     "text": [
      "W1 (3072, 700)\n",
      "b1 (700,)\n",
      "gamma1 (700,)\n",
      "beta1 (700,)\n",
      "W2 (700, 700)\n",
      "b2 (700,)\n",
      "gamma2 (700,)\n",
      "beta2 (700,)\n",
      "W3 (700, 700)\n",
      "b3 (700,)\n",
      "gamma3 (700,)\n",
      "beta3 (700,)\n",
      "W4 (700, 10)\n",
      "b4 (10,)\n"
     ]
    }
   ],
   "source": [
    "for k, v in model.params.items():\n",
    "    print(k, v.shape)"
   ]
  }
 ],
 "metadata": {
  "kernelspec": {
   "display_name": "Python 3",
   "language": "python",
   "name": "python3"
  },
  "language_info": {
   "codemirror_mode": {
    "name": "ipython",
    "version": 3
   },
   "file_extension": ".py",
   "mimetype": "text/x-python",
   "name": "python",
   "nbconvert_exporter": "python",
   "pygments_lexer": "ipython3",
   "version": "3.7.11"
  }
 },
 "nbformat": 4,
 "nbformat_minor": 2
}
