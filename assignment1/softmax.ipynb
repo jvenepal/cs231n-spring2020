{
 "cells": [
  {
   "cell_type": "markdown",
   "metadata": {
    "tags": [
     "pdf-title"
    ]
   },
   "source": [
    "# Softmax exercise\n",
    "\n",
    "*Complete and hand in this completed worksheet (including its outputs and any supporting code outside of the worksheet) with your assignment submission. For more details see the [assignments page](http://vision.stanford.edu/teaching/cs231n/assignments.html) on the course website.*\n",
    "\n",
    "This exercise is analogous to the SVM exercise. You will:\n",
    "\n",
    "- implement a fully-vectorized **loss function** for the Softmax classifier\n",
    "- implement the fully-vectorized expression for its **analytic gradient**\n",
    "- **check your implementation** with numerical gradient\n",
    "- use a validation set to **tune the learning rate and regularization** strength\n",
    "- **optimize** the loss function with **SGD**\n",
    "- **visualize** the final learned weights\n"
   ]
  },
  {
   "cell_type": "code",
   "execution_count": 1,
   "metadata": {
    "tags": [
     "pdf-ignore"
    ]
   },
   "outputs": [],
   "source": [
    "import random\n",
    "import numpy as np\n",
    "from cs231n.data_utils import load_CIFAR10\n",
    "import matplotlib.pyplot as plt\n",
    "\n",
    "%matplotlib inline\n",
    "plt.rcParams['figure.figsize'] = (10.0, 8.0) # set default size of plots\n",
    "plt.rcParams['image.interpolation'] = 'nearest'\n",
    "plt.rcParams['image.cmap'] = 'gray'\n",
    "\n",
    "# for auto-reloading extenrnal modules\n",
    "# see http://stackoverflow.com/questions/1907993/autoreload-of-modules-in-ipython\n",
    "%load_ext autoreload\n",
    "%autoreload 2"
   ]
  },
  {
   "cell_type": "code",
   "execution_count": 2,
   "metadata": {
    "tags": [
     "pdf-ignore"
    ]
   },
   "outputs": [
    {
     "name": "stdout",
     "output_type": "stream",
     "text": [
      "Train data shape:  (49000, 3073)\n",
      "Train labels shape:  (49000,)\n",
      "Validation data shape:  (1000, 3073)\n",
      "Validation labels shape:  (1000,)\n",
      "Test data shape:  (1000, 3073)\n",
      "Test labels shape:  (1000,)\n",
      "dev data shape:  (500, 3073)\n",
      "dev labels shape:  (500,)\n"
     ]
    }
   ],
   "source": [
    "def get_CIFAR10_data(num_training=49000, num_validation=1000, num_test=1000, num_dev=500):\n",
    "    \"\"\"\n",
    "    Load the CIFAR-10 dataset from disk and perform preprocessing to prepare\n",
    "    it for the linear classifier. These are the same steps as we used for the\n",
    "    SVM, but condensed to a single function.  \n",
    "    \"\"\"\n",
    "    # Load the raw CIFAR-10 data\n",
    "    cifar10_dir = 'cs231n/datasets/cifar-10-batches-py'\n",
    "    \n",
    "    # Cleaning up variables to prevent loading data multiple times (which may cause memory issue)\n",
    "    try:\n",
    "       del X_train, y_train\n",
    "       del X_test, y_test\n",
    "       print('Clear previously loaded data.')\n",
    "    except:\n",
    "       pass\n",
    "\n",
    "    X_train, y_train, X_test, y_test = load_CIFAR10(cifar10_dir)\n",
    "    \n",
    "    # subsample the data\n",
    "    mask = list(range(num_training, num_training + num_validation))\n",
    "    X_val = X_train[mask]\n",
    "    y_val = y_train[mask]\n",
    "    mask = list(range(num_training))\n",
    "    X_train = X_train[mask]\n",
    "    y_train = y_train[mask]\n",
    "    mask = list(range(num_test))\n",
    "    X_test = X_test[mask]\n",
    "    y_test = y_test[mask]\n",
    "    mask = np.random.choice(num_training, num_dev, replace=False)\n",
    "    X_dev = X_train[mask]\n",
    "    y_dev = y_train[mask]\n",
    "    \n",
    "    # Preprocessing: reshape the image data into rows\n",
    "    X_train = np.reshape(X_train, (X_train.shape[0], -1))\n",
    "    X_val = np.reshape(X_val, (X_val.shape[0], -1))\n",
    "    X_test = np.reshape(X_test, (X_test.shape[0], -1))\n",
    "    X_dev = np.reshape(X_dev, (X_dev.shape[0], -1))\n",
    "    \n",
    "    # Normalize the data: subtract the mean image\n",
    "    mean_image = np.mean(X_train, axis = 0)\n",
    "    X_train -= mean_image\n",
    "    X_val -= mean_image\n",
    "    X_test -= mean_image\n",
    "    X_dev -= mean_image\n",
    "    \n",
    "    # add bias dimension and transform into columns\n",
    "    X_train = np.hstack([X_train, np.ones((X_train.shape[0], 1))])\n",
    "    X_val = np.hstack([X_val, np.ones((X_val.shape[0], 1))])\n",
    "    X_test = np.hstack([X_test, np.ones((X_test.shape[0], 1))])\n",
    "    X_dev = np.hstack([X_dev, np.ones((X_dev.shape[0], 1))])\n",
    "    \n",
    "    return X_train, y_train, X_val, y_val, X_test, y_test, X_dev, y_dev\n",
    "\n",
    "\n",
    "# Invoke the above function to get our data.\n",
    "X_train, y_train, X_val, y_val, X_test, y_test, X_dev, y_dev = get_CIFAR10_data()\n",
    "print('Train data shape: ', X_train.shape)\n",
    "print('Train labels shape: ', y_train.shape)\n",
    "print('Validation data shape: ', X_val.shape)\n",
    "print('Validation labels shape: ', y_val.shape)\n",
    "print('Test data shape: ', X_test.shape)\n",
    "print('Test labels shape: ', y_test.shape)\n",
    "print('dev data shape: ', X_dev.shape)\n",
    "print('dev labels shape: ', y_dev.shape)"
   ]
  },
  {
   "cell_type": "markdown",
   "metadata": {},
   "source": [
    "## Softmax Classifier\n",
    "\n",
    "Your code for this section will all be written inside `cs231n/classifiers/softmax.py`.\n"
   ]
  },
  {
   "cell_type": "code",
   "execution_count": 3,
   "metadata": {},
   "outputs": [
    {
     "name": "stdout",
     "output_type": "stream",
     "text": [
      "loss: 2.333945\n",
      "sanity check: 2.302585\n"
     ]
    }
   ],
   "source": [
    "# First implement the naive softmax loss function with nested loops.\n",
    "# Open the file cs231n/classifiers/softmax.py and implement the\n",
    "# softmax_loss_naive function.\n",
    "\n",
    "from cs231n.classifiers.softmax import softmax_loss_naive\n",
    "import time\n",
    "\n",
    "# Generate a random softmax weight matrix and use it to compute the loss.\n",
    "W = np.random.randn(3073, 10) * 0.0001\n",
    "loss, grad = softmax_loss_naive(W, X_dev, y_dev, 0.0)\n",
    "\n",
    "# As a rough sanity check, our loss should be something close to -log(0.1).\n",
    "print('loss: %f' % loss)\n",
    "print('sanity check: %f' % (-np.log(0.1)))"
   ]
  },
  {
   "cell_type": "code",
   "execution_count": 4,
   "metadata": {},
   "outputs": [
    {
     "data": {
      "text/plain": [
       "[2.3649615459092095, 2.644110232393593, 5.435597097237434]"
      ]
     },
     "execution_count": 4,
     "metadata": {},
     "output_type": "execute_result"
    }
   ],
   "source": [
    "# loss should change with regularization\n",
    "[softmax_loss_naive(W, X_dev, y_dev, reg)[0] for reg in [1e2, 1e3, 1e4]]"
   ]
  },
  {
   "cell_type": "markdown",
   "metadata": {
    "tags": [
     "pdf-inline"
    ]
   },
   "source": [
    "**Inline Question 1**\n",
    "\n",
    "Why do we expect our loss to be close to -log(0.1)? Explain briefly.**\n",
    "\n",
    "$\\color{blue}{\\textit Your Answer:}$ *Fill this in* \n",
    "\n",
    "- Since we haven't started the training yet, we expect all classes to be equally likely. As there are 10 classes in cifar-10, this likelihood is 1/10=0.1\n",
    "- Since softmax loss is negative-log-likelihood, it is = -np.log(0.1)\n",
    "- see below for the probabilites and note that some of them are NOT close to 0.1"
   ]
  },
  {
   "cell_type": "code",
   "execution_count": 5,
   "metadata": {},
   "outputs": [
    {
     "data": {
      "text/plain": [
       "(array([0.09233098, 0.10034715, 0.10211568, 0.12531464, 0.11749355,\n",
       "        0.09166738, 0.11074656, 0.07394957, 0.09588646, 0.09014803]),\n",
       " 0.09014802846860406)"
      ]
     },
     "execution_count": 5,
     "metadata": {},
     "output_type": "execute_result"
    }
   ],
   "source": [
    "scores = X_dev[0].dot(W)\n",
    "probs = np.exp(scores) / np.sum(np.exp(scores))\n",
    "probs, probs[y_dev[0]]"
   ]
  },
  {
   "cell_type": "code",
   "execution_count": 6,
   "metadata": {},
   "outputs": [
    {
     "name": "stdout",
     "output_type": "stream",
     "text": [
      "numerical: 1.805009 analytic: 1.805009, relative error: 4.239569e-08\n",
      "numerical: -2.351764 analytic: -2.351764, relative error: 5.883459e-09\n",
      "numerical: 2.258301 analytic: 2.258300, relative error: 9.648892e-09\n",
      "numerical: 0.873163 analytic: 0.873163, relative error: 5.217449e-08\n",
      "numerical: -0.416224 analytic: -0.416224, relative error: 1.140404e-08\n",
      "numerical: 3.546644 analytic: 3.546644, relative error: 2.414484e-08\n",
      "numerical: 1.749741 analytic: 1.749740, relative error: 5.671885e-08\n",
      "numerical: -1.990601 analytic: -1.990601, relative error: 5.233679e-09\n",
      "numerical: 1.439681 analytic: 1.439681, relative error: 2.669770e-08\n",
      "numerical: 1.365113 analytic: 1.365113, relative error: 9.471750e-08\n",
      "numerical: 1.878111 analytic: 1.878111, relative error: 1.800956e-08\n",
      "numerical: -3.245500 analytic: -3.245500, relative error: 1.987961e-08\n",
      "numerical: -1.405715 analytic: -1.405716, relative error: 1.404757e-08\n",
      "numerical: 0.385701 analytic: 0.385701, relative error: 2.541327e-07\n",
      "numerical: -0.368239 analytic: -0.368239, relative error: 5.259623e-08\n",
      "numerical: 0.764566 analytic: 0.764566, relative error: 4.622174e-08\n",
      "numerical: -3.927640 analytic: -3.927640, relative error: 7.649238e-09\n",
      "numerical: -0.161729 analytic: -0.161729, relative error: 2.888163e-07\n",
      "numerical: 0.064982 analytic: 0.064981, relative error: 1.172671e-06\n",
      "numerical: 0.483595 analytic: 0.483595, relative error: 3.001191e-08\n"
     ]
    }
   ],
   "source": [
    "# Complete the implementation of softmax_loss_naive and implement a (naive)\n",
    "# version of the gradient that uses nested loops.\n",
    "loss, grad = softmax_loss_naive(W, X_dev, y_dev, 0.0)\n",
    "\n",
    "# As we did for the SVM, use numeric gradient checking as a debugging tool.\n",
    "# The numeric gradient should be close to the analytic gradient.\n",
    "from cs231n.gradient_check import grad_check_sparse\n",
    "f = lambda w: softmax_loss_naive(w, X_dev, y_dev, 0.0)[0]\n",
    "grad_numerical = grad_check_sparse(f, W, grad, 10)\n",
    "\n",
    "# similar to SVM case, do another gradient check with regularization\n",
    "loss, grad = softmax_loss_naive(W, X_dev, y_dev, 5e1)\n",
    "f = lambda w: softmax_loss_naive(w, X_dev, y_dev, 5e1)[0]\n",
    "grad_numerical = grad_check_sparse(f, W, grad, 10)"
   ]
  },
  {
   "cell_type": "code",
   "execution_count": 7,
   "metadata": {},
   "outputs": [
    {
     "data": {
      "text/plain": [
       "(500, 10)"
      ]
     },
     "execution_count": 7,
     "metadata": {},
     "output_type": "execute_result"
    }
   ],
   "source": [
    "scores = X_dev.dot(W)\n",
    "probs = np.exp(scores) / np.sum(np.exp(scores), axis=1)[:, np.newaxis]\n",
    "probs.shape"
   ]
  },
  {
   "cell_type": "code",
   "execution_count": 8,
   "metadata": {},
   "outputs": [
    {
     "data": {
      "text/plain": [
       "(500,)"
      ]
     },
     "execution_count": 8,
     "metadata": {},
     "output_type": "execute_result"
    }
   ],
   "source": [
    "num_train = X_dev.shape[0]\n",
    "probs[range(num_train), y_dev].shape"
   ]
  },
  {
   "cell_type": "code",
   "execution_count": 9,
   "metadata": {},
   "outputs": [
    {
     "name": "stdout",
     "output_type": "stream",
     "text": [
      "naive loss: 2.333945e+00 computed in 0.043487s\n",
      "vectorized loss: 2.333945e+00 computed in 0.002521s\n",
      "Loss difference: 0.000000\n",
      "Gradient difference: 0.000000\n"
     ]
    }
   ],
   "source": [
    "# Now that we have a naive implementation of the softmax loss function and its gradient,\n",
    "# implement a vectorized version in softmax_loss_vectorized.\n",
    "# The two versions should compute the same results, but the vectorized version should be\n",
    "# much faster.\n",
    "tic = time.time()\n",
    "loss_naive, grad_naive = softmax_loss_naive(W, X_dev, y_dev, 0.000005)\n",
    "toc = time.time()\n",
    "print('naive loss: %e computed in %fs' % (loss_naive, toc - tic))\n",
    "\n",
    "from cs231n.classifiers.softmax import softmax_loss_vectorized\n",
    "tic = time.time()\n",
    "loss_vectorized, grad_vectorized = softmax_loss_vectorized(W, X_dev, y_dev, 0.000005)\n",
    "toc = time.time()\n",
    "print('vectorized loss: %e computed in %fs' % (loss_vectorized, toc - tic))\n",
    "\n",
    "# As we did for the SVM, we use the Frobenius norm to compare the two versions\n",
    "# of the gradient.\n",
    "grad_difference = np.linalg.norm(grad_naive - grad_vectorized, ord='fro')\n",
    "print('Loss difference: %f' % np.abs(loss_naive - loss_vectorized))\n",
    "print('Gradient difference: %f' % grad_difference)"
   ]
  },
  {
   "cell_type": "code",
   "execution_count": 10,
   "metadata": {
    "id": "tuning",
    "tags": [
     "code"
    ]
   },
   "outputs": [
    {
     "name": "stdout",
     "output_type": "stream",
     "text": [
      "lr 1.000000e-07 reg 1.000000e+02 train accuracy: 0.205898 val accuracy: 0.196000\n",
      "lr 1.000000e-07 reg 1.200000e+03 train accuracy: 0.202857 val accuracy: 0.216000\n",
      "lr 1.000000e-07 reg 2.300000e+03 train accuracy: 0.210122 val accuracy: 0.201000\n",
      "lr 1.000000e-07 reg 3.400000e+03 train accuracy: 0.209347 val accuracy: 0.210000\n",
      "lr 1.000000e-07 reg 4.500000e+03 train accuracy: 0.213082 val accuracy: 0.192000\n",
      "lr 1.000000e-07 reg 5.600000e+03 train accuracy: 0.225837 val accuracy: 0.227000\n",
      "lr 1.000000e-07 reg 6.700000e+03 train accuracy: 0.228286 val accuracy: 0.229000\n",
      "lr 1.000000e-07 reg 7.800000e+03 train accuracy: 0.237551 val accuracy: 0.247000\n",
      "lr 1.000000e-07 reg 8.900000e+03 train accuracy: 0.242388 val accuracy: 0.232000\n",
      "lr 1.000000e-07 reg 1.000000e+04 train accuracy: 0.247673 val accuracy: 0.258000\n",
      "lr 3.162278e-07 reg 1.000000e+02 train accuracy: 0.253143 val accuracy: 0.246000\n",
      "lr 3.162278e-07 reg 1.200000e+03 train accuracy: 0.272245 val accuracy: 0.279000\n",
      "lr 3.162278e-07 reg 2.300000e+03 train accuracy: 0.294898 val accuracy: 0.295000\n",
      "lr 3.162278e-07 reg 3.400000e+03 train accuracy: 0.309939 val accuracy: 0.330000\n",
      "lr 3.162278e-07 reg 4.500000e+03 train accuracy: 0.338122 val accuracy: 0.337000\n",
      "lr 3.162278e-07 reg 5.600000e+03 train accuracy: 0.343061 val accuracy: 0.342000\n",
      "lr 3.162278e-07 reg 6.700000e+03 train accuracy: 0.353122 val accuracy: 0.350000\n",
      "lr 3.162278e-07 reg 7.800000e+03 train accuracy: 0.355490 val accuracy: 0.360000\n",
      "lr 3.162278e-07 reg 8.900000e+03 train accuracy: 0.350449 val accuracy: 0.357000\n",
      "lr 3.162278e-07 reg 1.000000e+04 train accuracy: 0.352857 val accuracy: 0.360000\n",
      "lr 1.000000e-06 reg 1.000000e+02 train accuracy: 0.305122 val accuracy: 0.321000\n",
      "lr 1.000000e-06 reg 1.200000e+03 train accuracy: 0.367224 val accuracy: 0.365000\n",
      "lr 1.000000e-06 reg 2.300000e+03 train accuracy: 0.382224 val accuracy: 0.395000\n",
      "lr 1.000000e-06 reg 3.400000e+03 train accuracy: 0.368000 val accuracy: 0.379000\n",
      "lr 1.000000e-06 reg 4.500000e+03 train accuracy: 0.368449 val accuracy: 0.377000\n",
      "lr 1.000000e-06 reg 5.600000e+03 train accuracy: 0.362020 val accuracy: 0.356000\n",
      "lr 1.000000e-06 reg 6.700000e+03 train accuracy: 0.358551 val accuracy: 0.387000\n",
      "lr 1.000000e-06 reg 7.800000e+03 train accuracy: 0.345857 val accuracy: 0.365000\n",
      "lr 1.000000e-06 reg 8.900000e+03 train accuracy: 0.342714 val accuracy: 0.356000\n",
      "lr 1.000000e-06 reg 1.000000e+04 train accuracy: 0.350347 val accuracy: 0.370000\n",
      "lr 3.162278e-06 reg 1.000000e+02 train accuracy: 0.353551 val accuracy: 0.354000\n",
      "lr 3.162278e-06 reg 1.200000e+03 train accuracy: 0.353816 val accuracy: 0.353000\n",
      "lr 3.162278e-06 reg 2.300000e+03 train accuracy: 0.352429 val accuracy: 0.355000\n",
      "lr 3.162278e-06 reg 3.400000e+03 train accuracy: 0.354224 val accuracy: 0.356000\n",
      "lr 3.162278e-06 reg 4.500000e+03 train accuracy: 0.343551 val accuracy: 0.334000\n",
      "lr 3.162278e-06 reg 5.600000e+03 train accuracy: 0.340469 val accuracy: 0.359000\n",
      "lr 3.162278e-06 reg 6.700000e+03 train accuracy: 0.335592 val accuracy: 0.335000\n",
      "lr 3.162278e-06 reg 7.800000e+03 train accuracy: 0.332224 val accuracy: 0.336000\n",
      "lr 3.162278e-06 reg 8.900000e+03 train accuracy: 0.328959 val accuracy: 0.359000\n",
      "lr 3.162278e-06 reg 1.000000e+04 train accuracy: 0.312612 val accuracy: 0.317000\n",
      "lr 1.000000e-05 reg 1.000000e+02 train accuracy: 0.301816 val accuracy: 0.296000\n",
      "lr 1.000000e-05 reg 1.200000e+03 train accuracy: 0.242020 val accuracy: 0.234000\n",
      "lr 1.000000e-05 reg 2.300000e+03 train accuracy: 0.249510 val accuracy: 0.256000\n",
      "lr 1.000000e-05 reg 3.400000e+03 train accuracy: 0.219878 val accuracy: 0.237000\n",
      "lr 1.000000e-05 reg 4.500000e+03 train accuracy: 0.220163 val accuracy: 0.208000\n",
      "lr 1.000000e-05 reg 5.600000e+03 train accuracy: 0.176082 val accuracy: 0.180000\n",
      "lr 1.000000e-05 reg 6.700000e+03 train accuracy: 0.173796 val accuracy: 0.166000\n",
      "lr 1.000000e-05 reg 7.800000e+03 train accuracy: 0.173898 val accuracy: 0.165000\n",
      "lr 1.000000e-05 reg 8.900000e+03 train accuracy: 0.166857 val accuracy: 0.171000\n",
      "lr 1.000000e-05 reg 1.000000e+04 train accuracy: 0.188531 val accuracy: 0.211000\n",
      "best validation accuracy achieved during cross-validation: 0.395000\n"
     ]
    }
   ],
   "source": [
    "# Use the validation set to tune hyperparameters (regularization strength and\n",
    "# learning rate). You should experiment with different ranges for the learning\n",
    "# rates and regularization strengths; if you are careful you should be able to\n",
    "# get a classification accuracy of over 0.35 on the validation set.\n",
    "\n",
    "from cs231n.classifiers import Softmax\n",
    "results = {}\n",
    "best_val = -1\n",
    "best_softmax = None\n",
    "\n",
    "################################################################################\n",
    "# TODO:                                                                        #\n",
    "# Use the validation set to set the learning rate and regularization strength. #\n",
    "# This should be identical to the validation that you did for the SVM; save    #\n",
    "# the best trained softmax classifer in best_softmax.                          #\n",
    "################################################################################\n",
    "\n",
    "# Provided as a reference. You may or may not want to change these hyperparameters\n",
    "learning_rates = [1e-7, 5e-7]\n",
    "regularization_strengths = [2.5e4, 5e4]\n",
    "\n",
    "# *****START OF YOUR CODE (DO NOT DELETE/MODIFY THIS LINE)*****\n",
    "\n",
    "learning_rates = np.logspace(-7, -5, 5)\n",
    "regularization_strengths = np.linspace(1e2, 1e4, 10)\n",
    "for lr in learning_rates:\n",
    "    for reg in regularization_strengths:\n",
    "        clf = Softmax()\n",
    "        clf.train(X_train, y_train, lr, reg, num_iters=500, batch_size=200)\n",
    "        train_accu = float(np.mean(clf.predict(X_train) == y_train))\n",
    "        valid_accu = float((clf.predict(X_val) == y_val).mean())\n",
    "        if valid_accu >= best_val:\n",
    "            best_val = valid_accu\n",
    "            best_softmax = clf\n",
    "        results[(lr, reg)] = (train_accu, valid_accu)\n",
    "\n",
    "# *****END OF YOUR CODE (DO NOT DELETE/MODIFY THIS LINE)*****\n",
    "    \n",
    "# Print out results.\n",
    "for lr, reg in sorted(results):\n",
    "    train_accuracy, val_accuracy = results[(lr, reg)]\n",
    "    print('lr %e reg %e train accuracy: %f val accuracy: %f' % (\n",
    "                lr, reg, train_accuracy, val_accuracy))\n",
    "    \n",
    "print('best validation accuracy achieved during cross-validation: %f' % best_val)"
   ]
  },
  {
   "cell_type": "code",
   "execution_count": 11,
   "metadata": {
    "id": "test"
   },
   "outputs": [
    {
     "name": "stdout",
     "output_type": "stream",
     "text": [
      "softmax on raw pixels final test set accuracy: 0.364000\n"
     ]
    }
   ],
   "source": [
    "# evaluate on test set\n",
    "# Evaluate the best softmax on test set\n",
    "y_test_pred = best_softmax.predict(X_test)\n",
    "test_accuracy = np.mean(y_test == y_test_pred)\n",
    "print('softmax on raw pixels final test set accuracy: %f' % (test_accuracy, ))"
   ]
  },
  {
   "cell_type": "code",
   "execution_count": 12,
   "metadata": {},
   "outputs": [
    {
     "data": {
      "text/plain": [
       "<matplotlib.collections.PathCollection at 0x7f8175da6a90>"
      ]
     },
     "execution_count": 12,
     "metadata": {},
     "output_type": "execute_result"
    },
    {
     "data": {
      "image/png": "[encoded data removed]",
      "text/plain": [
       "<Figure size 432x288 with 1 Axes>"
      ]
     },
     "metadata": {
      "needs_background": "light"
     },
     "output_type": "display_data"
    }
   ],
   "source": [
    "lr_scatter = [np.log(x[0]) for x in results.keys()]\n",
    "reg_scatter = [np.log(x[1]) for x in results.keys()]\n",
    "ms = 75\n",
    "colors = [x[0] for x in results.values()]\n",
    "plt.scatter(lr_scatter, reg_scatter, ms, c=colors, cmap=plt.cm.coolwarm)"
   ]
  },
  {
   "cell_type": "markdown",
   "metadata": {
    "tags": [
     "pdf-inline"
    ]
   },
   "source": [
    "**Inline Question 2** - *True or False*\n",
    "\n",
    "Suppose the overall training loss is defined as the sum of the per-datapoint loss over all training examples. It is possible to add a new datapoint to a training set that would leave the SVM loss unchanged, but this is not the case with the Softmax classifier loss.\n",
    "\n",
    "$\\color{blue}{\\textit Your Answer:}$ True, kind of!!\n",
    "\n",
    "\n",
    "$\\color{blue}{\\textit Your Explanation:}$\n",
    "1. It is possible to add a new datapoint and SVM loss needn't change if the scores generated by SVM clf. for the incorrect classes are lowerer than the correct class score by more than some delta.\n",
    "2. It's possible to achieve almost equal loss but NOT the exact same loss. This occurs when the predicted probablity of the correct class is 1 and that of the incorrect classes is 0. However, for this to happen, the predicted scores should be 0 for the correct class and -inf for the incorrect classes, so when the exp is taken, the probabilites are 1 & 0, respectively. This doesn't happend.\n",
    "\n",
    "NOTE: We are talking about sum of the training sample losses, NOT mean!"
   ]
  },
  {
   "cell_type": "code",
   "execution_count": 13,
   "metadata": {},
   "outputs": [
    {
     "data": {
      "image/png": "[encoded data removed]",
      "text/plain": [
       "<Figure size 432x288 with 10 Axes>"
      ]
     },
     "metadata": {
      "needs_background": "light"
     },
     "output_type": "display_data"
    }
   ],
   "source": [
    "# Visualize the learned weights for each class\n",
    "w = best_softmax.W[:-1,:] # strip out the bias\n",
    "w = w.reshape(32, 32, 3, 10)\n",
    "\n",
    "w_min, w_max = np.min(w), np.max(w)\n",
    "\n",
    "classes = ['plane', 'car', 'bird', 'cat', 'deer', 'dog', 'frog', 'horse', 'ship', 'truck']\n",
    "for i in range(10):\n",
    "    plt.subplot(2, 5, i + 1)\n",
    "    \n",
    "    # Rescale the weights to be between 0 and 255\n",
    "    wimg = 255.0 * (w[:, :, :, i].squeeze() - w_min) / (w_max - w_min)\n",
    "    plt.imshow(wimg.astype('uint8'))\n",
    "    plt.axis('off')\n",
    "    plt.title(classes[i])"
   ]
  },
  {
   "cell_type": "code",
   "execution_count": null,
   "metadata": {},
   "outputs": [],
   "source": []
  }
 ],
 "metadata": {
  "kernelspec": {
   "display_name": "Python 3",
   "language": "python",
   "name": "python3"
  },
  "language_info": {
   "codemirror_mode": {
    "name": "ipython",
    "version": 3
   },
   "file_extension": ".py",
   "mimetype": "text/x-python",
   "name": "python",
   "nbconvert_exporter": "python",
   "pygments_lexer": "ipython3",
   "version": "3.7.11"
  }
 },
 "nbformat": 4,
 "nbformat_minor": 2
}
